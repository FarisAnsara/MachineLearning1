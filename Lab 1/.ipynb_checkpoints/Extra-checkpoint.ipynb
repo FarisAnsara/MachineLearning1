{
 "cells": [
  {
   "cell_type": "code",
   "execution_count": null,
   "id": "5f92bba6-b669-4f6c-81b6-e6117fccda66",
   "metadata": {},
   "outputs": [],
   "source": [
    "import numpy\n",
    "import matplotlib.pyplot as plt"
   ]
  },
  {
   "cell_type": "code",
   "execution_count": null,
   "id": "5eba27ea-fa00-476a-8172-db85e23be158",
   "metadata": {},
   "outputs": [],
   "source": [
    "print('Red vs Green:')\n",
    "plt.figure(figsize=(12,12))\n",
    "plt.scatter(train_in_r[train_out==0], train_in_g[train_out==0], c='b', marker = \"+\") # c='b' means blue, for background.\n",
    "plt.scatter(train_in_r[train_out==1], train_in_g[train_out==1], c='r', marker = \".\") # c='r' means red, for, errr, skin.\n",
    "y1 = [0,230]\n",
    "x1 = [40,255]\n",
    "plt.plot(x1,y1)\n",
    "y2 = [0,178]\n",
    "x2 = [60,255]\n",
    "plt.plot(x2,y2)\n",
    "plt.show()\n",
    "\n",
    "print('Red vs Blue:')\n",
    "plt.figure(figsize=(12,12))\n",
    "plt.scatter(train_in_r[train_out==0], train_in_b[train_out==0], c='b', marker = \"+\") # c='b' means blue, for background.\n",
    "plt.scatter(train_in_r[train_out==1], train_in_b[train_out==1], c='r', marker = \".\") # c='r' means red, for, errr, skin.\n",
    "plt.show()\n",
    "\n",
    "print('Blue vs Green:')\n",
    "plt.figure(figsize=(12,12))\n",
    "plt.scatter(train_in_b[train_out==0], train_in_g[train_out==0], c='b', marker = \"+\") # c='b' means blue, for background.\n",
    "plt.scatter(train_in_b[train_out==1], train_in_g[train_out==1], c='r',  marker = \".\") # c='r' means red, for, errr, skin.\n",
    "plt.show()"
   ]
  },
  {
   "cell_type": "code",
   "execution_count": null,
   "id": "7a4bfd0a-168b-4895-ab46-4852108ddd77",
   "metadata": {},
   "outputs": [],
   "source": [
    "def line1(x):\n",
    "    return 230 - ((230 - 0) / (255 - 40)) * (x - 40)\n",
    "\n",
    "def line2(x):\n",
    "    return 178 - ((178 - 0) / (255 - 60)) * (x - 60)\n",
    "    \n",
    "r_filtered = []\n",
    "g_filtered = []\n",
    "for r_val, g_val in zip(train_in_r[train_out==1], train_in_g[train_out==1]):\n",
    "    if (g_val >= line1(r_val) and g_val <= 230) and (g_val >= line2(r_val) and g_val <= 178):\n",
    "        r_filtered.append(int(r_val))\n",
    "        g_filtered.append(int(g_val))\n",
    "\n",
    "plt.scatter(r_filtered, g_filtered, c = \"r\", marker = \"+\")\n",
    "plt.show\n",
    "\n",
    "r_filtered = numpy.array(r_filtered)\n",
    "g_filtered = numpy.array(g_filtered\n",
    "                        )\n",
    "train_tform = r_filtered // g_filtered\n",
    "\n",
    "\n",
    "# Print out simple statistics for your transformation of the data...\n",
    "\n",
    "# **************************************************************** 0 marks :-P\n",
    "\n",
    "\n",
    "# Write a new and improved classifier - this will be the same as the transform\n",
    "# above, but with the less than/greater than check and as an actual function...\n",
    "def is_skin2(r, g, b):\n",
    "    # **************************************************************** 1 mark\n",
    "    if(g == 0): \n",
    "        g = 1 #set to onen to avoid devide by 0\n",
    "    if( r // g in train_tform):\n",
    "        return 1\n",
    "    return 0\n",
    "\n",
    "estimate = numpy.array([is_skin2(test_in_r[i], test_in_g[i], test_in_b[i]) for i in range(test_in_r.shape[0])])\n",
    "\n",
    "correct = (estimate==test_out).sum()\n",
    "percentage = 100.0 * correct / float(test_in_r.shape[0])\n",
    "\n",
    "print('Got', percentage, '% correct')"
   ]
  },
  {
   "cell_type": "code",
   "execution_count": null,
   "id": "69c08a9d-2721-4e1a-ba24-c15340135bb3",
   "metadata": {},
   "outputs": [],
   "source": []
  }
 ],
 "metadata": {
  "kernelspec": {
   "display_name": "Python 3 (ipykernel)",
   "language": "python",
   "name": "python3"
  },
  "language_info": {
   "codemirror_mode": {
    "name": "ipython",
    "version": 3
   },
   "file_extension": ".py",
   "mimetype": "text/x-python",
   "name": "python",
   "nbconvert_exporter": "python",
   "pygments_lexer": "ipython3",
   "version": "3.11.3"
  }
 },
 "nbformat": 4,
 "nbformat_minor": 5
}
